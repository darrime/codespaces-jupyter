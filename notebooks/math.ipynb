{
 "cells": [
  {
   "cell_type": "code",
   "execution_count": 1,
   "metadata": {},
   "outputs": [
    {
     "name": "stdout",
     "output_type": "stream",
     "text": [
      "479001600\n"
     ]
    }
   ],
   "source": [
    "def factorial(n):\n",
    "  if(n > 1):\n",
    "    return factorial(n - 1) * n\n",
    "  else:\n",
    "    return 1\n",
    "\n",
    "number = int(input())\n",
    "\n",
    "print(factorial(number))"
   ]
  },
  {
   "cell_type": "code",
   "execution_count": null,
   "metadata": {},
   "outputs": [],
   "source": [
    "def improved_factorial(n):\n",
    "  i = range(1, n+1)\n",
    "  dd = 1\n",
    "  for k in range(0, n):\n",
    "    dd = dd * i[k]\n",
    "  return dd\n",
    "\n",
    "print(improved_factorial(100))"
   ]
  },
  {
   "cell_type": "code",
   "execution_count": null,
   "metadata": {},
   "outputs": [],
   "source": [
    "def factorial(n):\n",
    "  if(n > 1):\n",
    "    return factorial(n - 1) * n\n",
    "  else:\n",
    "    return 1\n",
    "\n",
    "\n",
    "\n",
    "def permutation(n, r):\n",
    "  return factorial(n)/factorial(n-r)\n",
    "\n",
    "print(\"n, r의 값을 차례로 입력하세요\")\n",
    "number1 = int(input())\n",
    "number2 = int(input())\n",
    "print(permutation(number1, number2))\n"
   ]
  },
  {
   "cell_type": "code",
   "execution_count": null,
   "metadata": {},
   "outputs": [],
   "source": [
    "def factorial(n):\n",
    "  if(n > 1):\n",
    "    return factorial(n - 1) * n\n",
    "  else:\n",
    "    return 1\n",
    "\n",
    "\n",
    "\n",
    "def permutation(n, r):\n",
    "  return factorial(n)/factorial(n-r)\n",
    "\n",
    "\n",
    "def combination(n, r):\n",
    "  return permutation(n, r)/factorial(r)\n",
    "\n",
    "print(\"n, r의 값을 차례로 입력하세요\")\n",
    "number1 = int(input())\n",
    "number2 = int(input())\n",
    "print(combination(number1, number2))"
   ]
  },
  {
   "cell_type": "code",
   "execution_count": null,
   "metadata": {},
   "outputs": [],
   "source": [
    "def comP(n, r):\n",
    "  return n**r\n",
    "\n",
    "print(\"n, r의 값을 차례로 입력하세요\")\n",
    "number1 = int(input())\n",
    "number2 = int(input())\n",
    "print(comP(number1, number2))\n"
   ]
  },
  {
   "cell_type": "code",
   "execution_count": null,
   "metadata": {},
   "outputs": [],
   "source": [
    "def factorial(n):\n",
    "  if(n > 1):\n",
    "    return factorial(n - 1) * n\n",
    "  else:\n",
    "    return 1\n",
    "\n",
    "\n",
    "\n",
    "def permutation(n, r):\n",
    "  return factorial(n)/factorial(n-r)\n",
    "\n",
    "\n",
    "def combination(n, r):\n",
    "  return permutation(n, r)/factorial(r)\n",
    "\n",
    "def comR(n, r):\n",
    "  return combination(n+r-1, r)\n",
    "\n",
    "print(\"n, r의 값을 차례로 입력하세요\")\n",
    "number1 = int(input())\n",
    "number2 = int(input())\n",
    "print(comR(number1, number2))"
   ]
  },
  {
   "cell_type": "code",
   "execution_count": null,
   "metadata": {},
   "outputs": [],
   "source": [
    "def factorial(n):\n",
    "  if(n > 1):\n",
    "    return factorial(n - 1) * n\n",
    "  else:\n",
    "    return 1\n",
    "\n",
    "\n",
    "\n",
    "def permutation(n, r):\n",
    "  return factorial(n)/factorial(n-r)\n",
    "\n",
    "\n",
    "def combination(n, r):\n",
    "  return permutation(n, r)/factorial(r)\n",
    "\n",
    "def comR(n, r):\n",
    "  return combination(n+r-1, r)\n",
    "\n",
    "print(\"숫자 입력:\")\n",
    "n = input()\n",
    "numbers = list(n)\n",
    "n_numbers = len(numbers)\n",
    "print(\"선택할 수 있는 숫자는\", numbers, \"으로 총\", n_numbers, \"개 입니다.\")\n",
    "\n",
    "print(\"몇 개의 숫자를 선택하시겠습니까?\")\n",
    "s = int(input())\n",
    "print(numbers, \"중에서\", s, \"개의 숫자를 선택하여 만들 수 있는 2자리 자연수의 경우의 수:\", permutation(n_numbers, s))\n",
    "\n"
   ]
  },
  {
   "cell_type": "code",
   "execution_count": null,
   "metadata": {},
   "outputs": [],
   "source": [
    "def factorial(n):\n",
    "  if(n > 1):\n",
    "    return factorial(n - 1) * n\n",
    "  else:\n",
    "    return 1\n",
    "\n",
    "\n",
    "\n",
    "def permutation(n, r):\n",
    "  return factorial(n)/factorial(n-r)\n",
    "\n",
    "\n",
    "def combination(n, r):\n",
    "  return permutation(n, r)/factorial(r)\n",
    "\n",
    "def comR(n, r):\n",
    "  return combination(n+r-1, r)\n",
    "\n",
    "print(\"숫자 입력:\")\n",
    "n = input()\n",
    "numbers = list(n)\n",
    "n_numbers = len(numbers)\n",
    "print(\"선택할 수 있는 숫자는\", numbers, \"으로 총\", n_numbers, \"개 입니다.\")\n",
    "\n",
    "print(\"몇 개의 숫자를 선택하시겠습니까?\")\n",
    "s = int(input())\n",
    "print(numbers, \"중에서\", s, \"개의 숫자를 선택하여 만들 수 있는 2자리 자연수의 경우의 수:\", combination(n_numbers, s))\n",
    "\n"
   ]
  }
 ],
 "metadata": {
  "kernelspec": {
   "display_name": "Python 3",
   "language": "python",
   "name": "python3"
  },
  "language_info": {
   "codemirror_mode": {
    "name": "ipython",
    "version": 3
   },
   "file_extension": ".py",
   "mimetype": "text/x-python",
   "name": "python",
   "nbconvert_exporter": "python",
   "pygments_lexer": "ipython3",
   "version": "3.10.8"
  },
  "orig_nbformat": 4
 },
 "nbformat": 4,
 "nbformat_minor": 2
}
